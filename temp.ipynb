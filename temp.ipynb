{
 "cells": [
  {
   "cell_type": "code",
   "execution_count": 4,
   "metadata": {},
   "outputs": [
    {
     "name": "stdout",
     "output_type": "stream",
     "text": [
      "Response: {'error': 'Unexpected endpoint or method. (POST /)'}\n"
     ]
    }
   ],
   "source": [
    "import requests\n",
    "\n",
    "# API Endpoint\n",
    "api_url = \"http://192.168.2.182:1234\"\n",
    "\n",
    "# Test Input\n",
    "payload = {\"prompt\": \"What is the purpose of airdrops in cryptocurrency?\"}\n",
    "\n",
    "response = requests.post(api_url, json=payload)\n",
    "if response.status_code == 200:\n",
    "    print(\"Response:\", response.json())\n",
    "else:\n",
    "    print(\"Error:\", response.status_code, response.text)\n"
   ]
  },
  {
   "cell_type": "code",
   "execution_count": 5,
   "metadata": {},
   "outputs": [
    {
     "ename": "TypeError",
     "evalue": "'coroutine' object is not iterable",
     "output_type": "error",
     "traceback": [
      "\u001b[0;31m---------------------------------------------------------------------------\u001b[0m",
      "\u001b[0;31mTypeError\u001b[0m                                 Traceback (most recent call last)",
      "Cell \u001b[0;32mIn[5], line 7\u001b[0m\n\u001b[1;32m      4\u001b[0m bot \u001b[38;5;241m=\u001b[39m Bot(token\u001b[38;5;241m=\u001b[39mAPI_TOKEN)\n\u001b[1;32m      6\u001b[0m updates \u001b[38;5;241m=\u001b[39m bot\u001b[38;5;241m.\u001b[39mget_updates()\n\u001b[0;32m----> 7\u001b[0m \u001b[38;5;28;01mfor\u001b[39;00m update \u001b[38;5;129;01min\u001b[39;00m updates:\n\u001b[1;32m      8\u001b[0m     \u001b[38;5;28;01mif\u001b[39;00m update\u001b[38;5;241m.\u001b[39mmessage \u001b[38;5;129;01mand\u001b[39;00m update\u001b[38;5;241m.\u001b[39mmessage\u001b[38;5;241m.\u001b[39mchat\u001b[38;5;241m.\u001b[39mtype \u001b[38;5;129;01min\u001b[39;00m [\u001b[38;5;124m\"\u001b[39m\u001b[38;5;124mgroup\u001b[39m\u001b[38;5;124m\"\u001b[39m, \u001b[38;5;124m\"\u001b[39m\u001b[38;5;124msupergroup\u001b[39m\u001b[38;5;124m\"\u001b[39m]:\n\u001b[1;32m      9\u001b[0m         \u001b[38;5;28mprint\u001b[39m(\u001b[38;5;124mf\u001b[39m\u001b[38;5;124m\"\u001b[39m\u001b[38;5;124mGroup Name: \u001b[39m\u001b[38;5;132;01m{\u001b[39;00mupdate\u001b[38;5;241m.\u001b[39mmessage\u001b[38;5;241m.\u001b[39mchat\u001b[38;5;241m.\u001b[39mtitle\u001b[38;5;132;01m}\u001b[39;00m\u001b[38;5;124m, Group ID: \u001b[39m\u001b[38;5;132;01m{\u001b[39;00mupdate\u001b[38;5;241m.\u001b[39mmessage\u001b[38;5;241m.\u001b[39mchat\u001b[38;5;241m.\u001b[39mid\u001b[38;5;132;01m}\u001b[39;00m\u001b[38;5;124m\"\u001b[39m)\n",
      "\u001b[0;31mTypeError\u001b[0m: 'coroutine' object is not iterable"
     ]
    }
   ],
   "source": [
    "from telegram_bot import SulaGPT\n",
    "from dotenv import load_dotenv\n",
    "load_dotenv()\n",
    "\n",
    "API_TOKEN = os.getenv(\"SULAGPT_KEY\")\n",
    "bot = SulaGPT(token=API_TOKEN)\n",
    "\n",
    "updates = bot.get_updates()\n",
    "for update in updates:\n",
    "    if update.message and update.message.chat.type in [\"group\", \"supergroup\"]:\n",
    "        print(f\"Group Name: {update.message.chat.title}, Group ID: {update.message.chat.id}\")\n"
   ]
  }
 ],
 "metadata": {
  "kernelspec": {
   "display_name": "trading_bot_env",
   "language": "python",
   "name": "python3"
  },
  "language_info": {
   "codemirror_mode": {
    "name": "ipython",
    "version": 3
   },
   "file_extension": ".py",
   "mimetype": "text/x-python",
   "name": "python",
   "nbconvert_exporter": "python",
   "pygments_lexer": "ipython3",
   "version": "3.9.20"
  }
 },
 "nbformat": 4,
 "nbformat_minor": 2
}
